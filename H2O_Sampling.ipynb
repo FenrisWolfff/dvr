{
 "cells": [
  {
   "cell_type": "code",
   "execution_count": 9,
   "metadata": {},
   "outputs": [],
   "source": [
    "import numpy as np\n",
    "import pyvibdmc.simulation_utilities as util\n",
    "import pyvibdmc as dmc\n",
    "from pyvibdmc import potential_manager as pm\n",
    "import matplotlib.pyplot as plt\n",
    "import sys,os"
   ]
  },
  {
   "cell_type": "code",
   "execution_count": 15,
   "metadata": {},
   "outputs": [],
   "source": [
    "pot_dir = '/'\n",
    "py_file = 'h2o_potential.py'\n",
    "pot_func = 'water_pot'\n",
    "\n",
    "water_pot = pm.Potential(potential_function=pot_func,\n",
    "                      python_file=py_file,\n",
    "                      potential_directory=pot_dir,\n",
    "                      num_cores=2)"
   ]
  },
  {
   "cell_type": "code",
   "execution_count": 113,
   "metadata": {},
   "outputs": [],
   "source": [
    "eq_coord = np.array([[1.81005599,  0.        ,  0.        ],\n",
    "                       [-0.45344658,  1.75233806,  0.        ],\n",
    "                       [ 0.        ,  0.        ,  0.        ]])\n",
    "cds = np.tile(eq_coord, (1001, 1, 1))\n",
    "d_r = np.linspace(-1, 1, num=1001)\n",
    "padded_d_r = np.zeros(cds.shape)\n",
    "padded_d_r[:,0,0] = d_r\n",
    "cds += padded_d_r"
   ]
  },
  {
   "cell_type": "code",
   "execution_count": 120,
   "metadata": {},
   "outputs": [],
   "source": [
    "def V_mat(V, cds):\n",
    "    return np.diag(V(cds))\n",
    "\n",
    "def T_mat(x_grid):\n",
    "    d_x = x_grid[1] - x_grid[0]\n",
    "    dim = len(x_grid)\n",
    "    c = 1/(2*d_x**2*MU)\n",
    "    T_matrix = c*np.fromfunction(np.vectorize(T_generator), (dim, dim))\n",
    "    return T_matrix\n",
    "\n",
    "def T_generator(i,j):\n",
    "    c = (-1)**(i-j)\n",
    "    return c*np.pi**2/3 if i==j else c*2/(i-j)**2\n",
    "\n",
    "def DVR(V, cds):\n",
    "    a = np.min(cds[:,0,0])\n",
    "    b = np.max(cds[:,0,0])\n",
    "    x_grid= cds[:,0,0]\n",
    "    V_matrix = V_mat(V, cds)\n",
    "    T_matrix = T_mat(x_grid)\n",
    "    E,evecs = np.linalg.eigh(V_matrix+T_matrix)\n",
    "    \n",
    "    return E, evecs, x_grid"
   ]
  },
  {
   "cell_type": "code",
   "execution_count": 129,
   "metadata": {},
   "outputs": [],
   "source": [
    "MU = util.Constants.reduced_mass('O-H', to_AU=True)\n",
    "\n",
    "def V_MO(x):\n",
    "    return water_pot.getpot(x)"
   ]
  },
  {
   "cell_type": "code",
   "execution_count": 130,
   "metadata": {},
   "outputs": [],
   "source": [
    "E_n, evecs, x_grid = DVR(V_MO, cds)"
   ]
  },
  {
   "cell_type": "code",
   "execution_count": 131,
   "metadata": {},
   "outputs": [
    {
     "name": "stdout",
     "output_type": "stream",
     "text": [
      "[0.00878383 0.02576807 0.04201848 0.05755561 0.07249947 0.08741048\n",
      " 0.10334412 0.12100567 0.14048159 0.16164507]\n"
     ]
    }
   ],
   "source": [
    "print(E_n[:10])"
   ]
  },
  {
   "cell_type": "code",
   "execution_count": 132,
   "metadata": {},
   "outputs": [
    {
     "data": {
      "text/plain": [
       "[<matplotlib.lines.Line2D at 0x7fee99be81d0>]"
      ]
     },
     "execution_count": 132,
     "metadata": {},
     "output_type": "execute_result"
    },
    {
     "data": {
      "image/png": "[encoded data removed]",
      "text/plain": [
       "<Figure size 432x288 with 1 Axes>"
      ]
     },
     "metadata": {
      "needs_background": "light"
     },
     "output_type": "display_data"
    }
   ],
   "source": [
    "plt.plot(x_grid, evecs[:,0])"
   ]
  },
  {
   "cell_type": "code",
   "execution_count": 133,
   "metadata": {},
   "outputs": [
    {
     "data": {
      "text/plain": [
       "[<matplotlib.lines.Line2D at 0x7fee7f07d850>]"
      ]
     },
     "execution_count": 133,
     "metadata": {},
     "output_type": "execute_result"
    },
    {
     "data": {
      "image/png": "[encoded data removed]",
      "text/plain": [
       "<Figure size 432x288 with 1 Axes>"
      ]
     },
     "metadata": {
      "needs_background": "light"
     },
     "output_type": "display_data"
    }
   ],
   "source": [
    "plt.plot(cds[:,0,0], water_pot.getpot(cds))"
   ]
  },
  {
   "cell_type": "code",
   "execution_count": null,
   "metadata": {},
   "outputs": [],
   "source": []
  }
 ],
 "metadata": {
  "kernelspec": {
   "display_name": "Python 3",
   "language": "python",
   "name": "python3"
  },
  "language_info": {
   "codemirror_mode": {
    "name": "ipython",
    "version": 3
   },
   "file_extension": ".py",
   "mimetype": "text/x-python",
   "name": "python",
   "nbconvert_exporter": "python",
   "pygments_lexer": "ipython3",
   "version": "3.7.6"
  }
 },
 "nbformat": 4,
 "nbformat_minor": 4
}
